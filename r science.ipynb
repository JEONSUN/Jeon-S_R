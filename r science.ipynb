{
 "cells": [
  {
   "cell_type": "markdown",
   "metadata": {},
   "source": [
    "## 데이터사이언스와 R 활용기초 2강 정리"
   ]
  },
  {
   "cell_type": "markdown",
   "metadata": {},
   "source": [
    "#### 1. R 시작\n",
    "\n",
    "**콘솔** - 입력과 출력을 할 수 있는 하나의 창\n",
    "\n",
    "c()함수 - 여러개의 데이터를 하나의 함수로 묶는다.\n",
    "\n",
    "sum() 함수를 활용하면 괄호안의 변수의 합을 구할수 있다.\n",
    "\n",
    "mean() - 평균 구할때 사용"
   ]
  },
  {
   "cell_type": "markdown",
   "metadata": {},
   "source": [
    "파일 - 새 스크립트를 통해 스크립트 창을 열 수 있으며 스크립트 창을 통해 실행 명령어를 작성할수 있다.\n",
    "\n",
    "ctrl + R을 사용하여 명령어를 실행한다."
   ]
  },
  {
   "cell_type": "markdown",
   "metadata": {},
   "source": [
    "파일명을 입력하고 저장 버튼을 클릭하면 확장자(.R)는 자동으로 설정된다."
   ]
  },
  {
   "cell_type": "markdown",
   "metadata": {},
   "source": [
    "    저장된 파일은 파일 -> 스크립트 열기를 사용하여 불러올 수 있다."
   ]
  },
  {
   "cell_type": "markdown",
   "metadata": {},
   "source": [
    "r 스크립트 종료는 닫기 버튼을 클릭하거나 q()함수나 quit()함수를 실행한다."
   ]
  },
  {
   "cell_type": "markdown",
   "metadata": {},
   "source": [
    "#### 2. r studio 시작"
   ]
  },
  {
   "cell_type": "markdown",
   "metadata": {},
   "source": [
    "ctrl + enter 실행"
   ]
  },
  {
   "cell_type": "markdown",
   "metadata": {},
   "source": [
    "종료 q() 또는 quit() 실행"
   ]
  },
  {
   "cell_type": "markdown",
   "metadata": {},
   "source": [
    "#### 3. 패키지"
   ]
  },
  {
   "cell_type": "markdown",
   "metadata": {},
   "source": [
    "기본 패키지 - 설치 안해도 기본적으로 탑재 \n",
    "\n",
    "추천 패키지 - library(패키지명)\n",
    "\n",
    "기타 패키지 - install.packages('패키지명')\n",
    "\n",
    "대소문자 구분 해야함"
   ]
  },
  {
   "cell_type": "markdown",
   "metadata": {},
   "source": []
  },
  {
   "cell_type": "code",
   "execution_count": null,
   "metadata": {},
   "outputs": [],
   "source": []
  },
  {
   "cell_type": "code",
   "execution_count": null,
   "metadata": {},
   "outputs": [],
   "source": []
  },
  {
   "cell_type": "code",
   "execution_count": null,
   "metadata": {},
   "outputs": [],
   "source": []
  }
 ],
 "metadata": {
  "kernelspec": {
   "display_name": "Python 3",
   "language": "python",
   "name": "python3"
  },
  "language_info": {
   "codemirror_mode": {
    "name": "ipython",
    "version": 3
   },
   "file_extension": ".py",
   "mimetype": "text/x-python",
   "name": "python",
   "nbconvert_exporter": "python",
   "pygments_lexer": "ipython3",
   "version": "3.7.3"
  }
 },
 "nbformat": 4,
 "nbformat_minor": 2
}
